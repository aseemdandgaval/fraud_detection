{
 "cells": [
  {
   "cell_type": "markdown",
   "id": "da338425-32f9-44ca-9c35-a25533f4c23e",
   "metadata": {},
   "source": [
    "### **1 .Importing the necessary libraries**"
   ]
  },
  {
   "cell_type": "code",
   "execution_count": 53,
   "id": "06278b03-fe1b-4fae-a362-0cc75828f01f",
   "metadata": {},
   "outputs": [],
   "source": [
    "import numpy as np\n",
    "import pandas as pd\n",
    "import sklearn as sk\n",
    "import matplotlib.pyplot as plt\n",
    "import seaborn as sns\n",
    "import plotly.express as px\n",
    "import joblib\n",
    "import xgboost\n",
    "from sklearn.metrics import roc_curve, roc_auc_score\n",
    "from sklearn.metrics import accuracy_score, precision_score, recall_score, f1_score\n",
    "from sklearn.metrics import confusion_matrix, ConfusionMatrixDisplay, classification_report\n",
    "\n",
    "%matplotlib inline\n",
    "sns.set_style('darkgrid')"
   ]
  },
  {
   "cell_type": "markdown",
   "id": "93427271-0835-4eb5-9bb0-aa971a45086c",
   "metadata": {},
   "source": [
    "### **2. Loading and Reading the dataset**"
   ]
  },
  {
   "cell_type": "code",
   "execution_count": 54,
   "id": "8146c066-69d4-488c-93de-2b4b45aa09f2",
   "metadata": {},
   "outputs": [],
   "source": [
    "df = pd.read_csv('Fraud.csv')"
   ]
  },
  {
   "cell_type": "code",
   "execution_count": 55,
   "id": "25430b3e-5421-4635-a70b-ceb5f8da9527",
   "metadata": {},
   "outputs": [
    {
     "data": {
      "text/html": [
       "<div>\n",
       "<style scoped>\n",
       "    .dataframe tbody tr th:only-of-type {\n",
       "        vertical-align: middle;\n",
       "    }\n",
       "\n",
       "    .dataframe tbody tr th {\n",
       "        vertical-align: top;\n",
       "    }\n",
       "\n",
       "    .dataframe thead th {\n",
       "        text-align: right;\n",
       "    }\n",
       "</style>\n",
       "<table border=\"1\" class=\"dataframe\">\n",
       "  <thead>\n",
       "    <tr style=\"text-align: right;\">\n",
       "      <th></th>\n",
       "      <th>step</th>\n",
       "      <th>type</th>\n",
       "      <th>amount</th>\n",
       "      <th>nameOrig</th>\n",
       "      <th>oldbalanceOrg</th>\n",
       "      <th>newbalanceOrig</th>\n",
       "      <th>nameDest</th>\n",
       "      <th>oldbalanceDest</th>\n",
       "      <th>newbalanceDest</th>\n",
       "      <th>isFraud</th>\n",
       "      <th>isFlaggedFraud</th>\n",
       "    </tr>\n",
       "  </thead>\n",
       "  <tbody>\n",
       "    <tr>\n",
       "      <th>0</th>\n",
       "      <td>1</td>\n",
       "      <td>PAYMENT</td>\n",
       "      <td>9839.64</td>\n",
       "      <td>C1231006815</td>\n",
       "      <td>170136.0</td>\n",
       "      <td>160296.36</td>\n",
       "      <td>M1979787155</td>\n",
       "      <td>0.0</td>\n",
       "      <td>0.0</td>\n",
       "      <td>0</td>\n",
       "      <td>0</td>\n",
       "    </tr>\n",
       "    <tr>\n",
       "      <th>1</th>\n",
       "      <td>1</td>\n",
       "      <td>PAYMENT</td>\n",
       "      <td>1864.28</td>\n",
       "      <td>C1666544295</td>\n",
       "      <td>21249.0</td>\n",
       "      <td>19384.72</td>\n",
       "      <td>M2044282225</td>\n",
       "      <td>0.0</td>\n",
       "      <td>0.0</td>\n",
       "      <td>0</td>\n",
       "      <td>0</td>\n",
       "    </tr>\n",
       "    <tr>\n",
       "      <th>2</th>\n",
       "      <td>1</td>\n",
       "      <td>TRANSFER</td>\n",
       "      <td>181.00</td>\n",
       "      <td>C1305486145</td>\n",
       "      <td>181.0</td>\n",
       "      <td>0.00</td>\n",
       "      <td>C553264065</td>\n",
       "      <td>0.0</td>\n",
       "      <td>0.0</td>\n",
       "      <td>1</td>\n",
       "      <td>0</td>\n",
       "    </tr>\n",
       "    <tr>\n",
       "      <th>3</th>\n",
       "      <td>1</td>\n",
       "      <td>CASH_OUT</td>\n",
       "      <td>181.00</td>\n",
       "      <td>C840083671</td>\n",
       "      <td>181.0</td>\n",
       "      <td>0.00</td>\n",
       "      <td>C38997010</td>\n",
       "      <td>21182.0</td>\n",
       "      <td>0.0</td>\n",
       "      <td>1</td>\n",
       "      <td>0</td>\n",
       "    </tr>\n",
       "    <tr>\n",
       "      <th>4</th>\n",
       "      <td>1</td>\n",
       "      <td>PAYMENT</td>\n",
       "      <td>11668.14</td>\n",
       "      <td>C2048537720</td>\n",
       "      <td>41554.0</td>\n",
       "      <td>29885.86</td>\n",
       "      <td>M1230701703</td>\n",
       "      <td>0.0</td>\n",
       "      <td>0.0</td>\n",
       "      <td>0</td>\n",
       "      <td>0</td>\n",
       "    </tr>\n",
       "  </tbody>\n",
       "</table>\n",
       "</div>"
      ],
      "text/plain": [
       "   step      type    amount     nameOrig  oldbalanceOrg  newbalanceOrig  \\\n",
       "0     1   PAYMENT   9839.64  C1231006815       170136.0       160296.36   \n",
       "1     1   PAYMENT   1864.28  C1666544295        21249.0        19384.72   \n",
       "2     1  TRANSFER    181.00  C1305486145          181.0            0.00   \n",
       "3     1  CASH_OUT    181.00   C840083671          181.0            0.00   \n",
       "4     1   PAYMENT  11668.14  C2048537720        41554.0        29885.86   \n",
       "\n",
       "      nameDest  oldbalanceDest  newbalanceDest  isFraud  isFlaggedFraud  \n",
       "0  M1979787155             0.0             0.0        0               0  \n",
       "1  M2044282225             0.0             0.0        0               0  \n",
       "2   C553264065             0.0             0.0        1               0  \n",
       "3    C38997010         21182.0             0.0        1               0  \n",
       "4  M1230701703             0.0             0.0        0               0  "
      ]
     },
     "execution_count": 55,
     "metadata": {},
     "output_type": "execute_result"
    }
   ],
   "source": [
    "df.head()"
   ]
  },
  {
   "cell_type": "code",
   "execution_count": 56,
   "id": "788c1dae-5d82-4002-8858-c2269b53d399",
   "metadata": {},
   "outputs": [
    {
     "data": {
      "text/plain": [
       "(6362620, 11)"
      ]
     },
     "execution_count": 56,
     "metadata": {},
     "output_type": "execute_result"
    }
   ],
   "source": [
    "df.shape"
   ]
  },
  {
   "cell_type": "code",
   "execution_count": 57,
   "id": "d1cb7142-b927-4fdb-9941-40cb03d8cbd1",
   "metadata": {},
   "outputs": [
    {
     "name": "stdout",
     "output_type": "stream",
     "text": [
      "<class 'pandas.core.frame.DataFrame'>\n",
      "RangeIndex: 6362620 entries, 0 to 6362619\n",
      "Data columns (total 11 columns):\n",
      " #   Column          Dtype  \n",
      "---  ------          -----  \n",
      " 0   step            int64  \n",
      " 1   type            object \n",
      " 2   amount          float64\n",
      " 3   nameOrig        object \n",
      " 4   oldbalanceOrg   float64\n",
      " 5   newbalanceOrig  float64\n",
      " 6   nameDest        object \n",
      " 7   oldbalanceDest  float64\n",
      " 8   newbalanceDest  float64\n",
      " 9   isFraud         int64  \n",
      " 10  isFlaggedFraud  int64  \n",
      "dtypes: float64(5), int64(3), object(3)\n",
      "memory usage: 534.0+ MB\n"
     ]
    }
   ],
   "source": [
    "df.info()"
   ]
  },
  {
   "cell_type": "code",
   "execution_count": 58,
   "id": "727465f2-e74b-48e2-a2db-f7717ea47ab0",
   "metadata": {},
   "outputs": [
    {
     "data": {
      "text/html": [
       "<div>\n",
       "<style scoped>\n",
       "    .dataframe tbody tr th:only-of-type {\n",
       "        vertical-align: middle;\n",
       "    }\n",
       "\n",
       "    .dataframe tbody tr th {\n",
       "        vertical-align: top;\n",
       "    }\n",
       "\n",
       "    .dataframe thead th {\n",
       "        text-align: right;\n",
       "    }\n",
       "</style>\n",
       "<table border=\"1\" class=\"dataframe\">\n",
       "  <thead>\n",
       "    <tr style=\"text-align: right;\">\n",
       "      <th></th>\n",
       "      <th>step</th>\n",
       "      <th>amount</th>\n",
       "      <th>oldbalanceOrg</th>\n",
       "      <th>newbalanceOrig</th>\n",
       "      <th>oldbalanceDest</th>\n",
       "      <th>newbalanceDest</th>\n",
       "      <th>isFraud</th>\n",
       "      <th>isFlaggedFraud</th>\n",
       "    </tr>\n",
       "  </thead>\n",
       "  <tbody>\n",
       "    <tr>\n",
       "      <th>count</th>\n",
       "      <td>6.362620e+06</td>\n",
       "      <td>6.362620e+06</td>\n",
       "      <td>6.362620e+06</td>\n",
       "      <td>6.362620e+06</td>\n",
       "      <td>6.362620e+06</td>\n",
       "      <td>6.362620e+06</td>\n",
       "      <td>6.362620e+06</td>\n",
       "      <td>6.362620e+06</td>\n",
       "    </tr>\n",
       "    <tr>\n",
       "      <th>mean</th>\n",
       "      <td>2.433972e+02</td>\n",
       "      <td>1.798619e+05</td>\n",
       "      <td>8.338831e+05</td>\n",
       "      <td>8.551137e+05</td>\n",
       "      <td>1.100702e+06</td>\n",
       "      <td>1.224996e+06</td>\n",
       "      <td>1.290820e-03</td>\n",
       "      <td>2.514687e-06</td>\n",
       "    </tr>\n",
       "    <tr>\n",
       "      <th>std</th>\n",
       "      <td>1.423320e+02</td>\n",
       "      <td>6.038582e+05</td>\n",
       "      <td>2.888243e+06</td>\n",
       "      <td>2.924049e+06</td>\n",
       "      <td>3.399180e+06</td>\n",
       "      <td>3.674129e+06</td>\n",
       "      <td>3.590480e-02</td>\n",
       "      <td>1.585775e-03</td>\n",
       "    </tr>\n",
       "    <tr>\n",
       "      <th>min</th>\n",
       "      <td>1.000000e+00</td>\n",
       "      <td>0.000000e+00</td>\n",
       "      <td>0.000000e+00</td>\n",
       "      <td>0.000000e+00</td>\n",
       "      <td>0.000000e+00</td>\n",
       "      <td>0.000000e+00</td>\n",
       "      <td>0.000000e+00</td>\n",
       "      <td>0.000000e+00</td>\n",
       "    </tr>\n",
       "    <tr>\n",
       "      <th>25%</th>\n",
       "      <td>1.560000e+02</td>\n",
       "      <td>1.338957e+04</td>\n",
       "      <td>0.000000e+00</td>\n",
       "      <td>0.000000e+00</td>\n",
       "      <td>0.000000e+00</td>\n",
       "      <td>0.000000e+00</td>\n",
       "      <td>0.000000e+00</td>\n",
       "      <td>0.000000e+00</td>\n",
       "    </tr>\n",
       "    <tr>\n",
       "      <th>50%</th>\n",
       "      <td>2.390000e+02</td>\n",
       "      <td>7.487194e+04</td>\n",
       "      <td>1.420800e+04</td>\n",
       "      <td>0.000000e+00</td>\n",
       "      <td>1.327057e+05</td>\n",
       "      <td>2.146614e+05</td>\n",
       "      <td>0.000000e+00</td>\n",
       "      <td>0.000000e+00</td>\n",
       "    </tr>\n",
       "    <tr>\n",
       "      <th>75%</th>\n",
       "      <td>3.350000e+02</td>\n",
       "      <td>2.087215e+05</td>\n",
       "      <td>1.073152e+05</td>\n",
       "      <td>1.442584e+05</td>\n",
       "      <td>9.430367e+05</td>\n",
       "      <td>1.111909e+06</td>\n",
       "      <td>0.000000e+00</td>\n",
       "      <td>0.000000e+00</td>\n",
       "    </tr>\n",
       "    <tr>\n",
       "      <th>max</th>\n",
       "      <td>7.430000e+02</td>\n",
       "      <td>9.244552e+07</td>\n",
       "      <td>5.958504e+07</td>\n",
       "      <td>4.958504e+07</td>\n",
       "      <td>3.560159e+08</td>\n",
       "      <td>3.561793e+08</td>\n",
       "      <td>1.000000e+00</td>\n",
       "      <td>1.000000e+00</td>\n",
       "    </tr>\n",
       "  </tbody>\n",
       "</table>\n",
       "</div>"
      ],
      "text/plain": [
       "               step        amount  oldbalanceOrg  newbalanceOrig  \\\n",
       "count  6.362620e+06  6.362620e+06   6.362620e+06    6.362620e+06   \n",
       "mean   2.433972e+02  1.798619e+05   8.338831e+05    8.551137e+05   \n",
       "std    1.423320e+02  6.038582e+05   2.888243e+06    2.924049e+06   \n",
       "min    1.000000e+00  0.000000e+00   0.000000e+00    0.000000e+00   \n",
       "25%    1.560000e+02  1.338957e+04   0.000000e+00    0.000000e+00   \n",
       "50%    2.390000e+02  7.487194e+04   1.420800e+04    0.000000e+00   \n",
       "75%    3.350000e+02  2.087215e+05   1.073152e+05    1.442584e+05   \n",
       "max    7.430000e+02  9.244552e+07   5.958504e+07    4.958504e+07   \n",
       "\n",
       "       oldbalanceDest  newbalanceDest       isFraud  isFlaggedFraud  \n",
       "count    6.362620e+06    6.362620e+06  6.362620e+06    6.362620e+06  \n",
       "mean     1.100702e+06    1.224996e+06  1.290820e-03    2.514687e-06  \n",
       "std      3.399180e+06    3.674129e+06  3.590480e-02    1.585775e-03  \n",
       "min      0.000000e+00    0.000000e+00  0.000000e+00    0.000000e+00  \n",
       "25%      0.000000e+00    0.000000e+00  0.000000e+00    0.000000e+00  \n",
       "50%      1.327057e+05    2.146614e+05  0.000000e+00    0.000000e+00  \n",
       "75%      9.430367e+05    1.111909e+06  0.000000e+00    0.000000e+00  \n",
       "max      3.560159e+08    3.561793e+08  1.000000e+00    1.000000e+00  "
      ]
     },
     "execution_count": 58,
     "metadata": {},
     "output_type": "execute_result"
    }
   ],
   "source": [
    "df.describe()"
   ]
  },
  {
   "cell_type": "markdown",
   "id": "187ac1e0-a5bd-46c5-b63d-97596df1fe0b",
   "metadata": {},
   "source": [
    "### **3. Exploratory Data Analysis and Preprocessing**"
   ]
  },
  {
   "cell_type": "code",
   "execution_count": 59,
   "id": "7e7c93f1-a806-4c8f-b326-7b22647c7ea6",
   "metadata": {},
   "outputs": [
    {
     "data": {
      "text/plain": [
       "step              0\n",
       "type              0\n",
       "amount            0\n",
       "nameOrig          0\n",
       "oldbalanceOrg     0\n",
       "newbalanceOrig    0\n",
       "nameDest          0\n",
       "oldbalanceDest    0\n",
       "newbalanceDest    0\n",
       "isFraud           0\n",
       "isFlaggedFraud    0\n",
       "dtype: int64"
      ]
     },
     "execution_count": 59,
     "metadata": {},
     "output_type": "execute_result"
    }
   ],
   "source": [
    "df.isnull().sum()"
   ]
  },
  {
   "cell_type": "markdown",
   "id": "96d2d88a-aa30-4d46-b5b3-a58a750b56c7",
   "metadata": {},
   "source": [
    "* Looks like there are **no missing values** in this dataset.\n",
    "* But the balances of the reciever before and after the transactions **(oldbalanceDest and newbalanceDest)** are '0' for transactions to a merchant.\n",
    "* **They can be considered as missing values**. This will be handled a little later on."
   ]
  },
  {
   "cell_type": "code",
   "execution_count": 60,
   "id": "6b2ce4bc-ce92-4dd2-82d7-fa7950d55f98",
   "metadata": {},
   "outputs": [
    {
     "data": {
      "text/plain": [
       "0    6354407\n",
       "1       8213\n",
       "Name: isFraud, dtype: int64"
      ]
     },
     "execution_count": 60,
     "metadata": {},
     "output_type": "execute_result"
    }
   ],
   "source": [
    "df.isFraud.value_counts()"
   ]
  },
  {
   "cell_type": "markdown",
   "id": "8789331b-2d49-41a3-9fb1-ce9420f074b6",
   "metadata": {},
   "source": [
    "* Only 0.001% of the transactions in this dataset are fraudulent.\n",
    "* This dataset is highly imbalanced.\n",
    "* This is the dependent variable that is to be predicted to mark transactions as fraudulent."
   ]
  },
  {
   "cell_type": "markdown",
   "id": "4d982cbb-f900-4ca2-8ba5-3a583d6233d5",
   "metadata": {
    "tags": []
   },
   "source": [
    "#### **A. Deciding which variables/features to keep**"
   ]
  },
  {
   "cell_type": "markdown",
   "id": "fa755140-cf5c-4246-abe3-f2fd99cbbb78",
   "metadata": {},
   "source": [
    "* The features that have to be present in the dataset are: **type**, **oldbalanceOrg**, **newbalanceOrig**, **oldbalanceDest**, **newbalanceDest**, and **isFraud**.\n",
    "* The reasoning for excluding the remaining ones are as follows."
   ]
  },
  {
   "cell_type": "markdown",
   "id": "ead6986b-37e5-4595-b658-7d27fc5f72ae",
   "metadata": {},
   "source": [
    "**step**"
   ]
  },
  {
   "cell_type": "code",
   "execution_count": 61,
   "id": "a7210f84-ede4-4531-8832-a5039a30cd94",
   "metadata": {},
   "outputs": [],
   "source": [
    "df = df.drop(columns = ['step'])"
   ]
  },
  {
   "cell_type": "markdown",
   "id": "19b5e29b-b9cd-42db-9867-3c44cffbbaca",
   "metadata": {},
   "source": [
    "* Firstly the **step** variable which indicates at what time the transaction has taken place.\n",
    "* This feature does not help in deciding fraudulent transactions **as a fraud can happen at any time**."
   ]
  },
  {
   "cell_type": "markdown",
   "id": "eb4b8d84-b71f-4c38-b93e-db1bd1717bbe",
   "metadata": {},
   "source": [
    "**isFlaggedFraud**"
   ]
  },
  {
   "cell_type": "code",
   "execution_count": 62,
   "id": "2f24b359-00a5-4a04-b1d4-5c45b1706cb9",
   "metadata": {},
   "outputs": [
    {
     "data": {
      "text/plain": [
       "0    6362604\n",
       "1         16\n",
       "Name: isFlaggedFraud, dtype: int64"
      ]
     },
     "execution_count": 62,
     "metadata": {},
     "output_type": "execute_result"
    }
   ],
   "source": [
    "df.isFlaggedFraud.value_counts()"
   ]
  },
  {
   "cell_type": "code",
   "execution_count": 63,
   "id": "25cb8beb-a6b4-4548-8461-7d2893531028",
   "metadata": {},
   "outputs": [
    {
     "data": {
      "text/html": [
       "<div>\n",
       "<style scoped>\n",
       "    .dataframe tbody tr th:only-of-type {\n",
       "        vertical-align: middle;\n",
       "    }\n",
       "\n",
       "    .dataframe tbody tr th {\n",
       "        vertical-align: top;\n",
       "    }\n",
       "\n",
       "    .dataframe thead th {\n",
       "        text-align: right;\n",
       "    }\n",
       "</style>\n",
       "<table border=\"1\" class=\"dataframe\">\n",
       "  <thead>\n",
       "    <tr style=\"text-align: right;\">\n",
       "      <th></th>\n",
       "      <th>type</th>\n",
       "      <th>amount</th>\n",
       "      <th>nameOrig</th>\n",
       "      <th>oldbalanceOrg</th>\n",
       "      <th>newbalanceOrig</th>\n",
       "      <th>nameDest</th>\n",
       "      <th>oldbalanceDest</th>\n",
       "      <th>newbalanceDest</th>\n",
       "      <th>isFraud</th>\n",
       "      <th>isFlaggedFraud</th>\n",
       "    </tr>\n",
       "  </thead>\n",
       "  <tbody>\n",
       "    <tr>\n",
       "      <th>2736446</th>\n",
       "      <td>TRANSFER</td>\n",
       "      <td>4953893.08</td>\n",
       "      <td>C728984460</td>\n",
       "      <td>4953893.08</td>\n",
       "      <td>4953893.08</td>\n",
       "      <td>C639921569</td>\n",
       "      <td>0.0</td>\n",
       "      <td>0.0</td>\n",
       "      <td>1</td>\n",
       "      <td>1</td>\n",
       "    </tr>\n",
       "    <tr>\n",
       "      <th>3247297</th>\n",
       "      <td>TRANSFER</td>\n",
       "      <td>1343002.08</td>\n",
       "      <td>C1100582606</td>\n",
       "      <td>1343002.08</td>\n",
       "      <td>1343002.08</td>\n",
       "      <td>C1147517658</td>\n",
       "      <td>0.0</td>\n",
       "      <td>0.0</td>\n",
       "      <td>1</td>\n",
       "      <td>1</td>\n",
       "    </tr>\n",
       "    <tr>\n",
       "      <th>3760288</th>\n",
       "      <td>TRANSFER</td>\n",
       "      <td>536624.41</td>\n",
       "      <td>C1035541766</td>\n",
       "      <td>536624.41</td>\n",
       "      <td>536624.41</td>\n",
       "      <td>C1100697970</td>\n",
       "      <td>0.0</td>\n",
       "      <td>0.0</td>\n",
       "      <td>1</td>\n",
       "      <td>1</td>\n",
       "    </tr>\n",
       "    <tr>\n",
       "      <th>5563713</th>\n",
       "      <td>TRANSFER</td>\n",
       "      <td>4892193.09</td>\n",
       "      <td>C908544136</td>\n",
       "      <td>4892193.09</td>\n",
       "      <td>4892193.09</td>\n",
       "      <td>C891140444</td>\n",
       "      <td>0.0</td>\n",
       "      <td>0.0</td>\n",
       "      <td>1</td>\n",
       "      <td>1</td>\n",
       "    </tr>\n",
       "    <tr>\n",
       "      <th>5996407</th>\n",
       "      <td>TRANSFER</td>\n",
       "      <td>10000000.00</td>\n",
       "      <td>C689608084</td>\n",
       "      <td>19585040.37</td>\n",
       "      <td>19585040.37</td>\n",
       "      <td>C1392803603</td>\n",
       "      <td>0.0</td>\n",
       "      <td>0.0</td>\n",
       "      <td>1</td>\n",
       "      <td>1</td>\n",
       "    </tr>\n",
       "    <tr>\n",
       "      <th>5996409</th>\n",
       "      <td>TRANSFER</td>\n",
       "      <td>9585040.37</td>\n",
       "      <td>C452586515</td>\n",
       "      <td>19585040.37</td>\n",
       "      <td>19585040.37</td>\n",
       "      <td>C1109166882</td>\n",
       "      <td>0.0</td>\n",
       "      <td>0.0</td>\n",
       "      <td>1</td>\n",
       "      <td>1</td>\n",
       "    </tr>\n",
       "    <tr>\n",
       "      <th>6168499</th>\n",
       "      <td>TRANSFER</td>\n",
       "      <td>3576297.10</td>\n",
       "      <td>C193696150</td>\n",
       "      <td>3576297.10</td>\n",
       "      <td>3576297.10</td>\n",
       "      <td>C484597480</td>\n",
       "      <td>0.0</td>\n",
       "      <td>0.0</td>\n",
       "      <td>1</td>\n",
       "      <td>1</td>\n",
       "    </tr>\n",
       "    <tr>\n",
       "      <th>6205439</th>\n",
       "      <td>TRANSFER</td>\n",
       "      <td>353874.22</td>\n",
       "      <td>C1684585475</td>\n",
       "      <td>353874.22</td>\n",
       "      <td>353874.22</td>\n",
       "      <td>C1770418982</td>\n",
       "      <td>0.0</td>\n",
       "      <td>0.0</td>\n",
       "      <td>1</td>\n",
       "      <td>1</td>\n",
       "    </tr>\n",
       "    <tr>\n",
       "      <th>6266413</th>\n",
       "      <td>TRANSFER</td>\n",
       "      <td>2542664.27</td>\n",
       "      <td>C786455622</td>\n",
       "      <td>2542664.27</td>\n",
       "      <td>2542664.27</td>\n",
       "      <td>C661958277</td>\n",
       "      <td>0.0</td>\n",
       "      <td>0.0</td>\n",
       "      <td>1</td>\n",
       "      <td>1</td>\n",
       "    </tr>\n",
       "    <tr>\n",
       "      <th>6281482</th>\n",
       "      <td>TRANSFER</td>\n",
       "      <td>10000000.00</td>\n",
       "      <td>C19004745</td>\n",
       "      <td>10399045.08</td>\n",
       "      <td>10399045.08</td>\n",
       "      <td>C1806199534</td>\n",
       "      <td>0.0</td>\n",
       "      <td>0.0</td>\n",
       "      <td>1</td>\n",
       "      <td>1</td>\n",
       "    </tr>\n",
       "    <tr>\n",
       "      <th>6281484</th>\n",
       "      <td>TRANSFER</td>\n",
       "      <td>399045.08</td>\n",
       "      <td>C724693370</td>\n",
       "      <td>10399045.08</td>\n",
       "      <td>10399045.08</td>\n",
       "      <td>C1909486199</td>\n",
       "      <td>0.0</td>\n",
       "      <td>0.0</td>\n",
       "      <td>1</td>\n",
       "      <td>1</td>\n",
       "    </tr>\n",
       "    <tr>\n",
       "      <th>6296014</th>\n",
       "      <td>TRANSFER</td>\n",
       "      <td>3441041.46</td>\n",
       "      <td>C917414431</td>\n",
       "      <td>3441041.46</td>\n",
       "      <td>3441041.46</td>\n",
       "      <td>C1082139865</td>\n",
       "      <td>0.0</td>\n",
       "      <td>0.0</td>\n",
       "      <td>1</td>\n",
       "      <td>1</td>\n",
       "    </tr>\n",
       "    <tr>\n",
       "      <th>6351225</th>\n",
       "      <td>TRANSFER</td>\n",
       "      <td>3171085.59</td>\n",
       "      <td>C1892216157</td>\n",
       "      <td>3171085.59</td>\n",
       "      <td>3171085.59</td>\n",
       "      <td>C1308068787</td>\n",
       "      <td>0.0</td>\n",
       "      <td>0.0</td>\n",
       "      <td>1</td>\n",
       "      <td>1</td>\n",
       "    </tr>\n",
       "    <tr>\n",
       "      <th>6362460</th>\n",
       "      <td>TRANSFER</td>\n",
       "      <td>10000000.00</td>\n",
       "      <td>C2140038573</td>\n",
       "      <td>17316255.05</td>\n",
       "      <td>17316255.05</td>\n",
       "      <td>C1395467927</td>\n",
       "      <td>0.0</td>\n",
       "      <td>0.0</td>\n",
       "      <td>1</td>\n",
       "      <td>1</td>\n",
       "    </tr>\n",
       "    <tr>\n",
       "      <th>6362462</th>\n",
       "      <td>TRANSFER</td>\n",
       "      <td>7316255.05</td>\n",
       "      <td>C1869569059</td>\n",
       "      <td>17316255.05</td>\n",
       "      <td>17316255.05</td>\n",
       "      <td>C1861208726</td>\n",
       "      <td>0.0</td>\n",
       "      <td>0.0</td>\n",
       "      <td>1</td>\n",
       "      <td>1</td>\n",
       "    </tr>\n",
       "    <tr>\n",
       "      <th>6362584</th>\n",
       "      <td>TRANSFER</td>\n",
       "      <td>5674547.89</td>\n",
       "      <td>C992223106</td>\n",
       "      <td>5674547.89</td>\n",
       "      <td>5674547.89</td>\n",
       "      <td>C1366804249</td>\n",
       "      <td>0.0</td>\n",
       "      <td>0.0</td>\n",
       "      <td>1</td>\n",
       "      <td>1</td>\n",
       "    </tr>\n",
       "  </tbody>\n",
       "</table>\n",
       "</div>"
      ],
      "text/plain": [
       "             type       amount     nameOrig  oldbalanceOrg  newbalanceOrig  \\\n",
       "2736446  TRANSFER   4953893.08   C728984460     4953893.08      4953893.08   \n",
       "3247297  TRANSFER   1343002.08  C1100582606     1343002.08      1343002.08   \n",
       "3760288  TRANSFER    536624.41  C1035541766      536624.41       536624.41   \n",
       "5563713  TRANSFER   4892193.09   C908544136     4892193.09      4892193.09   \n",
       "5996407  TRANSFER  10000000.00   C689608084    19585040.37     19585040.37   \n",
       "5996409  TRANSFER   9585040.37   C452586515    19585040.37     19585040.37   \n",
       "6168499  TRANSFER   3576297.10   C193696150     3576297.10      3576297.10   \n",
       "6205439  TRANSFER    353874.22  C1684585475      353874.22       353874.22   \n",
       "6266413  TRANSFER   2542664.27   C786455622     2542664.27      2542664.27   \n",
       "6281482  TRANSFER  10000000.00    C19004745    10399045.08     10399045.08   \n",
       "6281484  TRANSFER    399045.08   C724693370    10399045.08     10399045.08   \n",
       "6296014  TRANSFER   3441041.46   C917414431     3441041.46      3441041.46   \n",
       "6351225  TRANSFER   3171085.59  C1892216157     3171085.59      3171085.59   \n",
       "6362460  TRANSFER  10000000.00  C2140038573    17316255.05     17316255.05   \n",
       "6362462  TRANSFER   7316255.05  C1869569059    17316255.05     17316255.05   \n",
       "6362584  TRANSFER   5674547.89   C992223106     5674547.89      5674547.89   \n",
       "\n",
       "            nameDest  oldbalanceDest  newbalanceDest  isFraud  isFlaggedFraud  \n",
       "2736446   C639921569             0.0             0.0        1               1  \n",
       "3247297  C1147517658             0.0             0.0        1               1  \n",
       "3760288  C1100697970             0.0             0.0        1               1  \n",
       "5563713   C891140444             0.0             0.0        1               1  \n",
       "5996407  C1392803603             0.0             0.0        1               1  \n",
       "5996409  C1109166882             0.0             0.0        1               1  \n",
       "6168499   C484597480             0.0             0.0        1               1  \n",
       "6205439  C1770418982             0.0             0.0        1               1  \n",
       "6266413   C661958277             0.0             0.0        1               1  \n",
       "6281482  C1806199534             0.0             0.0        1               1  \n",
       "6281484  C1909486199             0.0             0.0        1               1  \n",
       "6296014  C1082139865             0.0             0.0        1               1  \n",
       "6351225  C1308068787             0.0             0.0        1               1  \n",
       "6362460  C1395467927             0.0             0.0        1               1  \n",
       "6362462  C1861208726             0.0             0.0        1               1  \n",
       "6362584  C1366804249             0.0             0.0        1               1  "
      ]
     },
     "execution_count": 63,
     "metadata": {},
     "output_type": "execute_result"
    }
   ],
   "source": [
    "df[df.isFlaggedFraud==1]"
   ]
  },
  {
   "cell_type": "code",
   "execution_count": 64,
   "id": "845fd260-bd20-4396-b6e7-e1766dff6bef",
   "metadata": {},
   "outputs": [],
   "source": [
    "df = df.drop(columns = ['isFlaggedFraud'])"
   ]
  },
  {
   "cell_type": "markdown",
   "id": "f766c0f2-8d51-4f80-9218-7cd8e8bdf7e3",
   "metadata": {},
   "source": [
    "* **Only 16 transactions** are flagged as fraududent. \n",
    "* With the data above it can be seen that in all of the 'isFlaggedFraud' transactions, the person is trying to cash out all funds to a new account via a TRANSFER while the balance of the sender remains the same.\n",
    "* But because so **few data points** are present, it is **not wise to include while training**.\n",
    "* These transactions are **already marked as fraudulent in the 'isFraud' column**, so we can hope the model find this relationship without the 'isFlaggedFraud' column"
   ]
  },
  {
   "cell_type": "markdown",
   "id": "e746f230-4312-4554-9b67-94a1911e1545",
   "metadata": {},
   "source": [
    "**nameOrig** and **nameDest**"
   ]
  },
  {
   "cell_type": "code",
   "execution_count": 65,
   "id": "e2796673-7488-400a-9733-fafb52262b7d",
   "metadata": {},
   "outputs": [
    {
     "data": {
      "text/html": [
       "<div>\n",
       "<style scoped>\n",
       "    .dataframe tbody tr th:only-of-type {\n",
       "        vertical-align: middle;\n",
       "    }\n",
       "\n",
       "    .dataframe tbody tr th {\n",
       "        vertical-align: top;\n",
       "    }\n",
       "\n",
       "    .dataframe thead th {\n",
       "        text-align: right;\n",
       "    }\n",
       "</style>\n",
       "<table border=\"1\" class=\"dataframe\">\n",
       "  <thead>\n",
       "    <tr style=\"text-align: right;\">\n",
       "      <th></th>\n",
       "      <th>type</th>\n",
       "      <th>amount</th>\n",
       "      <th>nameOrig</th>\n",
       "      <th>oldbalanceOrg</th>\n",
       "      <th>newbalanceOrig</th>\n",
       "      <th>nameDest</th>\n",
       "      <th>oldbalanceDest</th>\n",
       "      <th>newbalanceDest</th>\n",
       "      <th>isFraud</th>\n",
       "    </tr>\n",
       "  </thead>\n",
       "  <tbody>\n",
       "    <tr>\n",
       "      <th>0</th>\n",
       "      <td>PAYMENT</td>\n",
       "      <td>9839.64</td>\n",
       "      <td>C1231006815</td>\n",
       "      <td>170136.0</td>\n",
       "      <td>160296.36</td>\n",
       "      <td>M1979787155</td>\n",
       "      <td>0.0</td>\n",
       "      <td>0.0</td>\n",
       "      <td>0</td>\n",
       "    </tr>\n",
       "    <tr>\n",
       "      <th>1</th>\n",
       "      <td>PAYMENT</td>\n",
       "      <td>1864.28</td>\n",
       "      <td>C1666544295</td>\n",
       "      <td>21249.0</td>\n",
       "      <td>19384.72</td>\n",
       "      <td>M2044282225</td>\n",
       "      <td>0.0</td>\n",
       "      <td>0.0</td>\n",
       "      <td>0</td>\n",
       "    </tr>\n",
       "    <tr>\n",
       "      <th>4</th>\n",
       "      <td>PAYMENT</td>\n",
       "      <td>11668.14</td>\n",
       "      <td>C2048537720</td>\n",
       "      <td>41554.0</td>\n",
       "      <td>29885.86</td>\n",
       "      <td>M1230701703</td>\n",
       "      <td>0.0</td>\n",
       "      <td>0.0</td>\n",
       "      <td>0</td>\n",
       "    </tr>\n",
       "    <tr>\n",
       "      <th>5</th>\n",
       "      <td>PAYMENT</td>\n",
       "      <td>7817.71</td>\n",
       "      <td>C90045638</td>\n",
       "      <td>53860.0</td>\n",
       "      <td>46042.29</td>\n",
       "      <td>M573487274</td>\n",
       "      <td>0.0</td>\n",
       "      <td>0.0</td>\n",
       "      <td>0</td>\n",
       "    </tr>\n",
       "    <tr>\n",
       "      <th>6</th>\n",
       "      <td>PAYMENT</td>\n",
       "      <td>7107.77</td>\n",
       "      <td>C154988899</td>\n",
       "      <td>183195.0</td>\n",
       "      <td>176087.23</td>\n",
       "      <td>M408069119</td>\n",
       "      <td>0.0</td>\n",
       "      <td>0.0</td>\n",
       "      <td>0</td>\n",
       "    </tr>\n",
       "    <tr>\n",
       "      <th>...</th>\n",
       "      <td>...</td>\n",
       "      <td>...</td>\n",
       "      <td>...</td>\n",
       "      <td>...</td>\n",
       "      <td>...</td>\n",
       "      <td>...</td>\n",
       "      <td>...</td>\n",
       "      <td>...</td>\n",
       "      <td>...</td>\n",
       "    </tr>\n",
       "    <tr>\n",
       "      <th>6362312</th>\n",
       "      <td>PAYMENT</td>\n",
       "      <td>8178.01</td>\n",
       "      <td>C1213413071</td>\n",
       "      <td>11742.0</td>\n",
       "      <td>3563.99</td>\n",
       "      <td>M1112540487</td>\n",
       "      <td>0.0</td>\n",
       "      <td>0.0</td>\n",
       "      <td>0</td>\n",
       "    </tr>\n",
       "    <tr>\n",
       "      <th>6362314</th>\n",
       "      <td>PAYMENT</td>\n",
       "      <td>17841.23</td>\n",
       "      <td>C1045048098</td>\n",
       "      <td>10182.0</td>\n",
       "      <td>0.00</td>\n",
       "      <td>M1878955882</td>\n",
       "      <td>0.0</td>\n",
       "      <td>0.0</td>\n",
       "      <td>0</td>\n",
       "    </tr>\n",
       "    <tr>\n",
       "      <th>6362316</th>\n",
       "      <td>PAYMENT</td>\n",
       "      <td>1022.91</td>\n",
       "      <td>C1203084509</td>\n",
       "      <td>12.0</td>\n",
       "      <td>0.00</td>\n",
       "      <td>M675916850</td>\n",
       "      <td>0.0</td>\n",
       "      <td>0.0</td>\n",
       "      <td>0</td>\n",
       "    </tr>\n",
       "    <tr>\n",
       "      <th>6362318</th>\n",
       "      <td>PAYMENT</td>\n",
       "      <td>4109.57</td>\n",
       "      <td>C673558958</td>\n",
       "      <td>5521.0</td>\n",
       "      <td>1411.43</td>\n",
       "      <td>M1126011651</td>\n",
       "      <td>0.0</td>\n",
       "      <td>0.0</td>\n",
       "      <td>0</td>\n",
       "    </tr>\n",
       "    <tr>\n",
       "      <th>6362319</th>\n",
       "      <td>PAYMENT</td>\n",
       "      <td>8634.29</td>\n",
       "      <td>C642813806</td>\n",
       "      <td>518802.0</td>\n",
       "      <td>510167.71</td>\n",
       "      <td>M747723689</td>\n",
       "      <td>0.0</td>\n",
       "      <td>0.0</td>\n",
       "      <td>0</td>\n",
       "    </tr>\n",
       "  </tbody>\n",
       "</table>\n",
       "<p>2151495 rows × 9 columns</p>\n",
       "</div>"
      ],
      "text/plain": [
       "            type    amount     nameOrig  oldbalanceOrg  newbalanceOrig  \\\n",
       "0        PAYMENT   9839.64  C1231006815       170136.0       160296.36   \n",
       "1        PAYMENT   1864.28  C1666544295        21249.0        19384.72   \n",
       "4        PAYMENT  11668.14  C2048537720        41554.0        29885.86   \n",
       "5        PAYMENT   7817.71    C90045638        53860.0        46042.29   \n",
       "6        PAYMENT   7107.77   C154988899       183195.0       176087.23   \n",
       "...          ...       ...          ...            ...             ...   \n",
       "6362312  PAYMENT   8178.01  C1213413071        11742.0         3563.99   \n",
       "6362314  PAYMENT  17841.23  C1045048098        10182.0            0.00   \n",
       "6362316  PAYMENT   1022.91  C1203084509           12.0            0.00   \n",
       "6362318  PAYMENT   4109.57   C673558958         5521.0         1411.43   \n",
       "6362319  PAYMENT   8634.29   C642813806       518802.0       510167.71   \n",
       "\n",
       "            nameDest  oldbalanceDest  newbalanceDest  isFraud  \n",
       "0        M1979787155             0.0             0.0        0  \n",
       "1        M2044282225             0.0             0.0        0  \n",
       "4        M1230701703             0.0             0.0        0  \n",
       "5         M573487274             0.0             0.0        0  \n",
       "6         M408069119             0.0             0.0        0  \n",
       "...              ...             ...             ...      ...  \n",
       "6362312  M1112540487             0.0             0.0        0  \n",
       "6362314  M1878955882             0.0             0.0        0  \n",
       "6362316   M675916850             0.0             0.0        0  \n",
       "6362318  M1126011651             0.0             0.0        0  \n",
       "6362319   M747723689             0.0             0.0        0  \n",
       "\n",
       "[2151495 rows x 9 columns]"
      ]
     },
     "execution_count": 65,
     "metadata": {},
     "output_type": "execute_result"
    }
   ],
   "source": [
    "df[df['nameDest'].str.startswith('M')]"
   ]
  },
  {
   "cell_type": "code",
   "execution_count": 66,
   "id": "8cea0327-40dc-44c2-8d2c-dff826492d02",
   "metadata": {},
   "outputs": [
    {
     "data": {
      "text/html": [
       "<div>\n",
       "<style scoped>\n",
       "    .dataframe tbody tr th:only-of-type {\n",
       "        vertical-align: middle;\n",
       "    }\n",
       "\n",
       "    .dataframe tbody tr th {\n",
       "        vertical-align: top;\n",
       "    }\n",
       "\n",
       "    .dataframe thead th {\n",
       "        text-align: right;\n",
       "    }\n",
       "</style>\n",
       "<table border=\"1\" class=\"dataframe\">\n",
       "  <thead>\n",
       "    <tr style=\"text-align: right;\">\n",
       "      <th></th>\n",
       "      <th>type</th>\n",
       "      <th>amount</th>\n",
       "      <th>nameOrig</th>\n",
       "      <th>oldbalanceOrg</th>\n",
       "      <th>newbalanceOrig</th>\n",
       "      <th>nameDest</th>\n",
       "      <th>oldbalanceDest</th>\n",
       "      <th>newbalanceDest</th>\n",
       "      <th>isFraud</th>\n",
       "    </tr>\n",
       "  </thead>\n",
       "  <tbody>\n",
       "  </tbody>\n",
       "</table>\n",
       "</div>"
      ],
      "text/plain": [
       "Empty DataFrame\n",
       "Columns: [type, amount, nameOrig, oldbalanceOrg, newbalanceOrig, nameDest, oldbalanceDest, newbalanceDest, isFraud]\n",
       "Index: []"
      ]
     },
     "execution_count": 66,
     "metadata": {},
     "output_type": "execute_result"
    }
   ],
   "source": [
    "df[df['nameOrig'].str.startswith('M')]"
   ]
  },
  {
   "cell_type": "markdown",
   "id": "f158350b-7835-412c-a198-60dcc4e9c7a1",
   "metadata": {},
   "source": [
    "* As can be seen above, there are **no senders that are Merchants** but **2 million of the receivers are Merchants**.\n",
    "* There is **no information** about the receivers balances, **when the transaction is with a merchant**.\n",
    "* So this data can be considered as **missing data**.\n",
    "* I did train models excluding this data, but that resulted in **significanly worse results**.\n",
    "* So this **data will be included in training** the models.\n"
   ]
  },
  {
   "cell_type": "markdown",
   "id": "45d856d3-49df-4bc9-ac26-80a98f81c784",
   "metadata": {},
   "source": [
    "* The 'nameOrig' and 'nameDest' columns are **not useful** because it does not matter who transacts with whom (unless with a merchant). \n",
    "* Maybe the columns values can be changed, where if the receiver/sender is a customer, the value can be '1', and '0' for a merchant.\n",
    "* I also tried this, but it **resulted in insignificant improvements** to the the metrics with **very low feature importance**.\n",
    "* So for now, **I will be excluding these two columns for a little more simplicity**."
   ]
  },
  {
   "cell_type": "code",
   "execution_count": 67,
   "id": "d68677f0-0c9c-49a4-a2d2-f53dc08979a0",
   "metadata": {},
   "outputs": [],
   "source": [
    "df = df.drop(columns = ['nameOrig', 'nameDest'])"
   ]
  },
  {
   "cell_type": "code",
   "execution_count": 68,
   "id": "5cf86b52-eb64-4856-94ff-768878763bb6",
   "metadata": {},
   "outputs": [
    {
     "data": {
      "text/html": [
       "<div>\n",
       "<style scoped>\n",
       "    .dataframe tbody tr th:only-of-type {\n",
       "        vertical-align: middle;\n",
       "    }\n",
       "\n",
       "    .dataframe tbody tr th {\n",
       "        vertical-align: top;\n",
       "    }\n",
       "\n",
       "    .dataframe thead th {\n",
       "        text-align: right;\n",
       "    }\n",
       "</style>\n",
       "<table border=\"1\" class=\"dataframe\">\n",
       "  <thead>\n",
       "    <tr style=\"text-align: right;\">\n",
       "      <th></th>\n",
       "      <th>type</th>\n",
       "      <th>amount</th>\n",
       "      <th>oldbalanceOrg</th>\n",
       "      <th>newbalanceOrig</th>\n",
       "      <th>oldbalanceDest</th>\n",
       "      <th>newbalanceDest</th>\n",
       "      <th>isFraud</th>\n",
       "    </tr>\n",
       "  </thead>\n",
       "  <tbody>\n",
       "    <tr>\n",
       "      <th>0</th>\n",
       "      <td>PAYMENT</td>\n",
       "      <td>9839.64</td>\n",
       "      <td>170136.00</td>\n",
       "      <td>160296.36</td>\n",
       "      <td>0.00</td>\n",
       "      <td>0.00</td>\n",
       "      <td>0</td>\n",
       "    </tr>\n",
       "    <tr>\n",
       "      <th>1</th>\n",
       "      <td>PAYMENT</td>\n",
       "      <td>1864.28</td>\n",
       "      <td>21249.00</td>\n",
       "      <td>19384.72</td>\n",
       "      <td>0.00</td>\n",
       "      <td>0.00</td>\n",
       "      <td>0</td>\n",
       "    </tr>\n",
       "    <tr>\n",
       "      <th>2</th>\n",
       "      <td>TRANSFER</td>\n",
       "      <td>181.00</td>\n",
       "      <td>181.00</td>\n",
       "      <td>0.00</td>\n",
       "      <td>0.00</td>\n",
       "      <td>0.00</td>\n",
       "      <td>1</td>\n",
       "    </tr>\n",
       "    <tr>\n",
       "      <th>3</th>\n",
       "      <td>CASH_OUT</td>\n",
       "      <td>181.00</td>\n",
       "      <td>181.00</td>\n",
       "      <td>0.00</td>\n",
       "      <td>21182.00</td>\n",
       "      <td>0.00</td>\n",
       "      <td>1</td>\n",
       "    </tr>\n",
       "    <tr>\n",
       "      <th>4</th>\n",
       "      <td>PAYMENT</td>\n",
       "      <td>11668.14</td>\n",
       "      <td>41554.00</td>\n",
       "      <td>29885.86</td>\n",
       "      <td>0.00</td>\n",
       "      <td>0.00</td>\n",
       "      <td>0</td>\n",
       "    </tr>\n",
       "    <tr>\n",
       "      <th>...</th>\n",
       "      <td>...</td>\n",
       "      <td>...</td>\n",
       "      <td>...</td>\n",
       "      <td>...</td>\n",
       "      <td>...</td>\n",
       "      <td>...</td>\n",
       "      <td>...</td>\n",
       "    </tr>\n",
       "    <tr>\n",
       "      <th>6362615</th>\n",
       "      <td>CASH_OUT</td>\n",
       "      <td>339682.13</td>\n",
       "      <td>339682.13</td>\n",
       "      <td>0.00</td>\n",
       "      <td>0.00</td>\n",
       "      <td>339682.13</td>\n",
       "      <td>1</td>\n",
       "    </tr>\n",
       "    <tr>\n",
       "      <th>6362616</th>\n",
       "      <td>TRANSFER</td>\n",
       "      <td>6311409.28</td>\n",
       "      <td>6311409.28</td>\n",
       "      <td>0.00</td>\n",
       "      <td>0.00</td>\n",
       "      <td>0.00</td>\n",
       "      <td>1</td>\n",
       "    </tr>\n",
       "    <tr>\n",
       "      <th>6362617</th>\n",
       "      <td>CASH_OUT</td>\n",
       "      <td>6311409.28</td>\n",
       "      <td>6311409.28</td>\n",
       "      <td>0.00</td>\n",
       "      <td>68488.84</td>\n",
       "      <td>6379898.11</td>\n",
       "      <td>1</td>\n",
       "    </tr>\n",
       "    <tr>\n",
       "      <th>6362618</th>\n",
       "      <td>TRANSFER</td>\n",
       "      <td>850002.52</td>\n",
       "      <td>850002.52</td>\n",
       "      <td>0.00</td>\n",
       "      <td>0.00</td>\n",
       "      <td>0.00</td>\n",
       "      <td>1</td>\n",
       "    </tr>\n",
       "    <tr>\n",
       "      <th>6362619</th>\n",
       "      <td>CASH_OUT</td>\n",
       "      <td>850002.52</td>\n",
       "      <td>850002.52</td>\n",
       "      <td>0.00</td>\n",
       "      <td>6510099.11</td>\n",
       "      <td>7360101.63</td>\n",
       "      <td>1</td>\n",
       "    </tr>\n",
       "  </tbody>\n",
       "</table>\n",
       "<p>6362620 rows × 7 columns</p>\n",
       "</div>"
      ],
      "text/plain": [
       "             type      amount  oldbalanceOrg  newbalanceOrig  oldbalanceDest  \\\n",
       "0         PAYMENT     9839.64      170136.00       160296.36            0.00   \n",
       "1         PAYMENT     1864.28       21249.00        19384.72            0.00   \n",
       "2        TRANSFER      181.00         181.00            0.00            0.00   \n",
       "3        CASH_OUT      181.00         181.00            0.00        21182.00   \n",
       "4         PAYMENT    11668.14       41554.00        29885.86            0.00   \n",
       "...           ...         ...            ...             ...             ...   \n",
       "6362615  CASH_OUT   339682.13      339682.13            0.00            0.00   \n",
       "6362616  TRANSFER  6311409.28     6311409.28            0.00            0.00   \n",
       "6362617  CASH_OUT  6311409.28     6311409.28            0.00        68488.84   \n",
       "6362618  TRANSFER   850002.52      850002.52            0.00            0.00   \n",
       "6362619  CASH_OUT   850002.52      850002.52            0.00      6510099.11   \n",
       "\n",
       "         newbalanceDest  isFraud  \n",
       "0                  0.00        0  \n",
       "1                  0.00        0  \n",
       "2                  0.00        1  \n",
       "3                  0.00        1  \n",
       "4                  0.00        0  \n",
       "...                 ...      ...  \n",
       "6362615       339682.13        1  \n",
       "6362616            0.00        1  \n",
       "6362617      6379898.11        1  \n",
       "6362618            0.00        1  \n",
       "6362619      7360101.63        1  \n",
       "\n",
       "[6362620 rows x 7 columns]"
      ]
     },
     "execution_count": 68,
     "metadata": {},
     "output_type": "execute_result"
    }
   ],
   "source": [
    "df"
   ]
  },
  {
   "cell_type": "markdown",
   "id": "4f943122-f303-49d9-84f2-4ce5a31e53fb",
   "metadata": {},
   "source": [
    "#### **B. Finding Correlations**"
   ]
  },
  {
   "cell_type": "code",
   "execution_count": 69,
   "id": "80540c73-69bf-433e-b388-d1fedbf1407e",
   "metadata": {},
   "outputs": [
    {
     "data": {
      "text/plain": [
       "Text(0.5, 1.0, 'Heatmap of Correlations')"
      ]
     },
     "execution_count": 69,
     "metadata": {},
     "output_type": "execute_result"
    },
    {
     "data": {
      "image/png": "[encoded data removed]",
      "text/plain": [
       "<Figure size 936x720 with 2 Axes>"
      ]
     },
     "metadata": {},
     "output_type": "display_data"
    }
   ],
   "source": [
    "plt.figure(figsize = (13,10))\n",
    "matrix = np.triu(df.corr())\n",
    "sns.heatmap(df.corr(), cmap = 'Greens', annot = True, mask=matrix)\n",
    "plt.title('Heatmap of Correlations') "
   ]
  },
  {
   "cell_type": "markdown",
   "id": "46723514-a513-434e-bada-c6b14c9fded8",
   "metadata": {},
   "source": [
    "* There is **some correlation** between the 'amount' and the 'newbalanceDest' and 'oldbalanceDest', since the amount transacted is reflected in the receivers account.\n",
    "* However a correlation should have been possible for the senders account as well('newbalanceOrig' and 'oldbalanceOrg'), but that is not the case.\n",
    "* Theres is a **strong correlation is between the sender's balance before and after the transaction ('newbalanceOrig' and 'oldbalanceOrg')**, this does make sense as they are quite similar due to a large quantity of transactions being fairly low in 'amount'(shown in the boxplot below).\n",
    "* Similarly, there is a **strong correlation is between the receivers's balance before and after the transaction ('newbalanceDest' and 'oldbalanceDest')**."
   ]
  },
  {
   "cell_type": "markdown",
   "id": "0fb426f3-2834-402a-9d93-97c5357d9b1c",
   "metadata": {},
   "source": [
    "#### **C. Handling Outliers**"
   ]
  },
  {
   "cell_type": "code",
   "execution_count": 70,
   "id": "2e70cd32-27b3-40bf-91e4-dd0407c5c6a1",
   "metadata": {},
   "outputs": [
    {
     "data": {
      "image/png": "[encoded data removed]",
      "text/plain": [
       "<Figure size 864x576 with 10 Axes>"
      ]
     },
     "metadata": {},
     "output_type": "display_data"
    }
   ],
   "source": [
    "fig, axes = plt.subplots(2,5, figsize = (12,8))\n",
    "  \n",
    "sns.boxplot(y=df.amount , ax=axes[0][0])\n",
    "sns.boxplot(y=df.oldbalanceOrg , ax=axes[0][1])\n",
    "sns.boxplot(y=df.newbalanceOrig , ax=axes[0][2])\n",
    "sns.boxplot(y=df.oldbalanceDest , ax=axes[0][3])\n",
    "sns.boxplot(y=df.newbalanceDest , ax=axes[0][4])\n",
    "\n",
    "sns.boxplot(y=df.amount , ax=axes[1][0], showfliers=False)\n",
    "sns.boxplot(y=df.oldbalanceOrg , ax=axes[1][1], showfliers=False)\n",
    "sns.boxplot(y=df.newbalanceOrig , ax=axes[1][2], showfliers=False)\n",
    "sns.boxplot(y=df.oldbalanceDest , ax=axes[1][3], showfliers=False)\n",
    "sns.boxplot(y=df.newbalanceDest , ax=axes[1][4], showfliers=False)\n",
    "\n",
    "plt.tight_layout(pad = 3)"
   ]
  },
  {
   "cell_type": "markdown",
   "id": "0644fd02-71ac-4dbd-88e7-bac3c519cf84",
   "metadata": {},
   "source": [
    "* There does seem to be a **lot of outliers**.\n",
    "* Normally it is advised to remove the outliers so that they do not disproportionally affect the model.\n",
    "* But in this case, **outliers just maybe the data that help identity the fraudulent transactions**.\n",
    "* **So they will not be removed**."
   ]
  },
  {
   "cell_type": "markdown",
   "id": "71477786-18a2-4056-84a9-380de70713c1",
   "metadata": {
    "tags": []
   },
   "source": [
    "#### **D. Converting Categorical Variables to Continuous Variables**"
   ]
  },
  {
   "cell_type": "markdown",
   "id": "c5837a71-866e-49f0-9fa8-6cd1ac942633",
   "metadata": {},
   "source": [
    "**One-Hot Encoding**"
   ]
  },
  {
   "cell_type": "code",
   "execution_count": 71,
   "id": "5458bb3c-9e56-4bfe-ba7f-25a0d24b755d",
   "metadata": {},
   "outputs": [
    {
     "data": {
      "text/plain": [
       "[array(['CASH_IN', 'CASH_OUT', 'DEBIT', 'PAYMENT', 'TRANSFER'],\n",
       "       dtype=object)]"
      ]
     },
     "execution_count": 71,
     "metadata": {},
     "output_type": "execute_result"
    }
   ],
   "source": [
    "from sklearn import preprocessing\n",
    "enc = preprocessing.OneHotEncoder()\n",
    "enc.fit(df[['type']])\n",
    "enc.categories_"
   ]
  },
  {
   "cell_type": "code",
   "execution_count": 72,
   "id": "ac3d8c95-ece7-4b91-b8f7-e240bb1710ef",
   "metadata": {},
   "outputs": [
    {
     "data": {
      "text/plain": [
       "array([[0., 0., 0., 1., 0.],\n",
       "       [0., 0., 0., 1., 0.],\n",
       "       [0., 0., 0., 0., 1.],\n",
       "       ...,\n",
       "       [0., 1., 0., 0., 0.],\n",
       "       [0., 0., 0., 0., 1.],\n",
       "       [0., 1., 0., 0., 0.]])"
      ]
     },
     "execution_count": 72,
     "metadata": {},
     "output_type": "execute_result"
    }
   ],
   "source": [
    "one_hot = enc.transform(df[['type']]).toarray()\n",
    "one_hot"
   ]
  },
  {
   "cell_type": "code",
   "execution_count": 73,
   "id": "56beae81-e50c-44ed-a257-208202350cd8",
   "metadata": {},
   "outputs": [],
   "source": [
    "df[['cash_in', 'cash_out', 'debit', 'payment', 'transfer']] = one_hot"
   ]
  },
  {
   "cell_type": "code",
   "execution_count": 74,
   "id": "c381c135-9412-432c-a1af-503d1d3b524f",
   "metadata": {},
   "outputs": [],
   "source": [
    "df = df[['cash_in', 'cash_out', 'debit', 'payment', 'transfer', 'amount', 'oldbalanceOrg', 'newbalanceOrig', 'oldbalanceDest', 'newbalanceDest', 'isFraud']]"
   ]
  },
  {
   "cell_type": "code",
   "execution_count": 75,
   "id": "cdb86466-dcef-4bae-8248-96f802f8b361",
   "metadata": {},
   "outputs": [
    {
     "data": {
      "text/html": [
       "<div>\n",
       "<style scoped>\n",
       "    .dataframe tbody tr th:only-of-type {\n",
       "        vertical-align: middle;\n",
       "    }\n",
       "\n",
       "    .dataframe tbody tr th {\n",
       "        vertical-align: top;\n",
       "    }\n",
       "\n",
       "    .dataframe thead th {\n",
       "        text-align: right;\n",
       "    }\n",
       "</style>\n",
       "<table border=\"1\" class=\"dataframe\">\n",
       "  <thead>\n",
       "    <tr style=\"text-align: right;\">\n",
       "      <th></th>\n",
       "      <th>cash_in</th>\n",
       "      <th>cash_out</th>\n",
       "      <th>debit</th>\n",
       "      <th>payment</th>\n",
       "      <th>transfer</th>\n",
       "      <th>amount</th>\n",
       "      <th>oldbalanceOrg</th>\n",
       "      <th>newbalanceOrig</th>\n",
       "      <th>oldbalanceDest</th>\n",
       "      <th>newbalanceDest</th>\n",
       "      <th>isFraud</th>\n",
       "    </tr>\n",
       "  </thead>\n",
       "  <tbody>\n",
       "    <tr>\n",
       "      <th>0</th>\n",
       "      <td>0.0</td>\n",
       "      <td>0.0</td>\n",
       "      <td>0.0</td>\n",
       "      <td>1.0</td>\n",
       "      <td>0.0</td>\n",
       "      <td>9839.64</td>\n",
       "      <td>170136.00</td>\n",
       "      <td>160296.36</td>\n",
       "      <td>0.00</td>\n",
       "      <td>0.00</td>\n",
       "      <td>0</td>\n",
       "    </tr>\n",
       "    <tr>\n",
       "      <th>1</th>\n",
       "      <td>0.0</td>\n",
       "      <td>0.0</td>\n",
       "      <td>0.0</td>\n",
       "      <td>1.0</td>\n",
       "      <td>0.0</td>\n",
       "      <td>1864.28</td>\n",
       "      <td>21249.00</td>\n",
       "      <td>19384.72</td>\n",
       "      <td>0.00</td>\n",
       "      <td>0.00</td>\n",
       "      <td>0</td>\n",
       "    </tr>\n",
       "    <tr>\n",
       "      <th>2</th>\n",
       "      <td>0.0</td>\n",
       "      <td>0.0</td>\n",
       "      <td>0.0</td>\n",
       "      <td>0.0</td>\n",
       "      <td>1.0</td>\n",
       "      <td>181.00</td>\n",
       "      <td>181.00</td>\n",
       "      <td>0.00</td>\n",
       "      <td>0.00</td>\n",
       "      <td>0.00</td>\n",
       "      <td>1</td>\n",
       "    </tr>\n",
       "    <tr>\n",
       "      <th>3</th>\n",
       "      <td>0.0</td>\n",
       "      <td>1.0</td>\n",
       "      <td>0.0</td>\n",
       "      <td>0.0</td>\n",
       "      <td>0.0</td>\n",
       "      <td>181.00</td>\n",
       "      <td>181.00</td>\n",
       "      <td>0.00</td>\n",
       "      <td>21182.00</td>\n",
       "      <td>0.00</td>\n",
       "      <td>1</td>\n",
       "    </tr>\n",
       "    <tr>\n",
       "      <th>4</th>\n",
       "      <td>0.0</td>\n",
       "      <td>0.0</td>\n",
       "      <td>0.0</td>\n",
       "      <td>1.0</td>\n",
       "      <td>0.0</td>\n",
       "      <td>11668.14</td>\n",
       "      <td>41554.00</td>\n",
       "      <td>29885.86</td>\n",
       "      <td>0.00</td>\n",
       "      <td>0.00</td>\n",
       "      <td>0</td>\n",
       "    </tr>\n",
       "    <tr>\n",
       "      <th>...</th>\n",
       "      <td>...</td>\n",
       "      <td>...</td>\n",
       "      <td>...</td>\n",
       "      <td>...</td>\n",
       "      <td>...</td>\n",
       "      <td>...</td>\n",
       "      <td>...</td>\n",
       "      <td>...</td>\n",
       "      <td>...</td>\n",
       "      <td>...</td>\n",
       "      <td>...</td>\n",
       "    </tr>\n",
       "    <tr>\n",
       "      <th>6362615</th>\n",
       "      <td>0.0</td>\n",
       "      <td>1.0</td>\n",
       "      <td>0.0</td>\n",
       "      <td>0.0</td>\n",
       "      <td>0.0</td>\n",
       "      <td>339682.13</td>\n",
       "      <td>339682.13</td>\n",
       "      <td>0.00</td>\n",
       "      <td>0.00</td>\n",
       "      <td>339682.13</td>\n",
       "      <td>1</td>\n",
       "    </tr>\n",
       "    <tr>\n",
       "      <th>6362616</th>\n",
       "      <td>0.0</td>\n",
       "      <td>0.0</td>\n",
       "      <td>0.0</td>\n",
       "      <td>0.0</td>\n",
       "      <td>1.0</td>\n",
       "      <td>6311409.28</td>\n",
       "      <td>6311409.28</td>\n",
       "      <td>0.00</td>\n",
       "      <td>0.00</td>\n",
       "      <td>0.00</td>\n",
       "      <td>1</td>\n",
       "    </tr>\n",
       "    <tr>\n",
       "      <th>6362617</th>\n",
       "      <td>0.0</td>\n",
       "      <td>1.0</td>\n",
       "      <td>0.0</td>\n",
       "      <td>0.0</td>\n",
       "      <td>0.0</td>\n",
       "      <td>6311409.28</td>\n",
       "      <td>6311409.28</td>\n",
       "      <td>0.00</td>\n",
       "      <td>68488.84</td>\n",
       "      <td>6379898.11</td>\n",
       "      <td>1</td>\n",
       "    </tr>\n",
       "    <tr>\n",
       "      <th>6362618</th>\n",
       "      <td>0.0</td>\n",
       "      <td>0.0</td>\n",
       "      <td>0.0</td>\n",
       "      <td>0.0</td>\n",
       "      <td>1.0</td>\n",
       "      <td>850002.52</td>\n",
       "      <td>850002.52</td>\n",
       "      <td>0.00</td>\n",
       "      <td>0.00</td>\n",
       "      <td>0.00</td>\n",
       "      <td>1</td>\n",
       "    </tr>\n",
       "    <tr>\n",
       "      <th>6362619</th>\n",
       "      <td>0.0</td>\n",
       "      <td>1.0</td>\n",
       "      <td>0.0</td>\n",
       "      <td>0.0</td>\n",
       "      <td>0.0</td>\n",
       "      <td>850002.52</td>\n",
       "      <td>850002.52</td>\n",
       "      <td>0.00</td>\n",
       "      <td>6510099.11</td>\n",
       "      <td>7360101.63</td>\n",
       "      <td>1</td>\n",
       "    </tr>\n",
       "  </tbody>\n",
       "</table>\n",
       "<p>6362620 rows × 11 columns</p>\n",
       "</div>"
      ],
      "text/plain": [
       "         cash_in  cash_out  debit  payment  transfer      amount  \\\n",
       "0            0.0       0.0    0.0      1.0       0.0     9839.64   \n",
       "1            0.0       0.0    0.0      1.0       0.0     1864.28   \n",
       "2            0.0       0.0    0.0      0.0       1.0      181.00   \n",
       "3            0.0       1.0    0.0      0.0       0.0      181.00   \n",
       "4            0.0       0.0    0.0      1.0       0.0    11668.14   \n",
       "...          ...       ...    ...      ...       ...         ...   \n",
       "6362615      0.0       1.0    0.0      0.0       0.0   339682.13   \n",
       "6362616      0.0       0.0    0.0      0.0       1.0  6311409.28   \n",
       "6362617      0.0       1.0    0.0      0.0       0.0  6311409.28   \n",
       "6362618      0.0       0.0    0.0      0.0       1.0   850002.52   \n",
       "6362619      0.0       1.0    0.0      0.0       0.0   850002.52   \n",
       "\n",
       "         oldbalanceOrg  newbalanceOrig  oldbalanceDest  newbalanceDest  \\\n",
       "0            170136.00       160296.36            0.00            0.00   \n",
       "1             21249.00        19384.72            0.00            0.00   \n",
       "2               181.00            0.00            0.00            0.00   \n",
       "3               181.00            0.00        21182.00            0.00   \n",
       "4             41554.00        29885.86            0.00            0.00   \n",
       "...                ...             ...             ...             ...   \n",
       "6362615      339682.13            0.00            0.00       339682.13   \n",
       "6362616     6311409.28            0.00            0.00            0.00   \n",
       "6362617     6311409.28            0.00        68488.84      6379898.11   \n",
       "6362618      850002.52            0.00            0.00            0.00   \n",
       "6362619      850002.52            0.00      6510099.11      7360101.63   \n",
       "\n",
       "         isFraud  \n",
       "0              0  \n",
       "1              0  \n",
       "2              1  \n",
       "3              1  \n",
       "4              0  \n",
       "...          ...  \n",
       "6362615        1  \n",
       "6362616        1  \n",
       "6362617        1  \n",
       "6362618        1  \n",
       "6362619        1  \n",
       "\n",
       "[6362620 rows x 11 columns]"
      ]
     },
     "execution_count": 75,
     "metadata": {},
     "output_type": "execute_result"
    }
   ],
   "source": [
    "df"
   ]
  },
  {
   "cell_type": "markdown",
   "id": "c62ec7a6-3c19-4a17-9142-f66f550e7af7",
   "metadata": {},
   "source": [
    "* Finally the dataset is ready to be trained."
   ]
  },
  {
   "cell_type": "markdown",
   "id": "7749673d-0f3a-49be-9faa-8b8f72098108",
   "metadata": {},
   "source": [
    "### **4. Splitting the dataset into training and test sets**"
   ]
  },
  {
   "cell_type": "code",
   "execution_count": 76,
   "id": "e566e8ae-3bc1-4d36-af42-5561d3cdabb8",
   "metadata": {},
   "outputs": [],
   "source": [
    "x = df.iloc[: , :-1].values\n",
    "y = df.iloc[: , -1].values"
   ]
  },
  {
   "cell_type": "code",
   "execution_count": 77,
   "id": "8e48f495-2beb-46b9-b79d-7514e08010a5",
   "metadata": {},
   "outputs": [
    {
     "name": "stdout",
     "output_type": "stream",
     "text": [
      "[[0.00000000e+00 0.00000000e+00 0.00000000e+00 ... 1.60296360e+05\n",
      "  0.00000000e+00 0.00000000e+00]\n",
      " [0.00000000e+00 0.00000000e+00 0.00000000e+00 ... 1.93847200e+04\n",
      "  0.00000000e+00 0.00000000e+00]\n",
      " [0.00000000e+00 0.00000000e+00 0.00000000e+00 ... 0.00000000e+00\n",
      "  0.00000000e+00 0.00000000e+00]\n",
      " ...\n",
      " [0.00000000e+00 1.00000000e+00 0.00000000e+00 ... 0.00000000e+00\n",
      "  6.84888400e+04 6.37989811e+06]\n",
      " [0.00000000e+00 0.00000000e+00 0.00000000e+00 ... 0.00000000e+00\n",
      "  0.00000000e+00 0.00000000e+00]\n",
      " [0.00000000e+00 1.00000000e+00 0.00000000e+00 ... 0.00000000e+00\n",
      "  6.51009911e+06 7.36010163e+06]]\n"
     ]
    }
   ],
   "source": [
    "print(x)"
   ]
  },
  {
   "cell_type": "code",
   "execution_count": 78,
   "id": "e20ed66c-ecdc-42e9-8664-91c029f13907",
   "metadata": {},
   "outputs": [
    {
     "name": "stdout",
     "output_type": "stream",
     "text": [
      "[0 0 1 ... 1 1 1]\n"
     ]
    }
   ],
   "source": [
    "print(y)"
   ]
  },
  {
   "cell_type": "code",
   "execution_count": 79,
   "id": "d58db0bb-beca-4300-ae3a-e1ba1bfd12f9",
   "metadata": {},
   "outputs": [],
   "source": [
    "from sklearn.model_selection import train_test_split\n",
    "\n",
    "X_train, X_test, y_train, y_test = train_test_split(x, y, test_size =0.25, random_state=42)"
   ]
  },
  {
   "cell_type": "code",
   "execution_count": 80,
   "id": "a72b667c-08ad-4a32-bccc-49b46d456433",
   "metadata": {},
   "outputs": [
    {
     "name": "stdout",
     "output_type": "stream",
     "text": [
      "[[1.00000000e+00 0.00000000e+00 0.00000000e+00 ... 2.25110235e+06\n",
      "  5.78198595e+06 5.63811338e+06]\n",
      " [0.00000000e+00 0.00000000e+00 0.00000000e+00 ... 3.26510610e+05\n",
      "  0.00000000e+00 0.00000000e+00]\n",
      " [0.00000000e+00 0.00000000e+00 0.00000000e+00 ... 0.00000000e+00\n",
      "  0.00000000e+00 0.00000000e+00]\n",
      " ...\n",
      " [0.00000000e+00 1.00000000e+00 0.00000000e+00 ... 4.86998400e+04\n",
      "  3.22754160e+05 3.33333320e+05]\n",
      " [0.00000000e+00 1.00000000e+00 0.00000000e+00 ... 0.00000000e+00\n",
      "  2.56102840e+05 3.29123610e+05]\n",
      " [0.00000000e+00 1.00000000e+00 0.00000000e+00 ... 1.06372150e+05\n",
      "  0.00000000e+00 8.96988500e+04]]\n"
     ]
    }
   ],
   "source": [
    "print(X_train)"
   ]
  },
  {
   "cell_type": "code",
   "execution_count": 81,
   "id": "0c636b02-4a47-45fc-968d-d48ef6a360b7",
   "metadata": {},
   "outputs": [
    {
     "name": "stdout",
     "output_type": "stream",
     "text": [
      "[[1.00000000e+00 0.00000000e+00 0.00000000e+00 ... 3.51084420e+05\n",
      "  4.52419570e+05 1.22201150e+05]\n",
      " [0.00000000e+00 0.00000000e+00 0.00000000e+00 ... 1.87229200e+04\n",
      "  0.00000000e+00 0.00000000e+00]\n",
      " [1.00000000e+00 0.00000000e+00 0.00000000e+00 ... 2.58853210e+05\n",
      "  2.01303010e+05 4.90388000e+04]\n",
      " ...\n",
      " [0.00000000e+00 1.00000000e+00 0.00000000e+00 ... 0.00000000e+00\n",
      "  3.18715040e+05 4.37819490e+05]\n",
      " [1.00000000e+00 0.00000000e+00 0.00000000e+00 ... 6.40362554e+06\n",
      "  5.84705190e+05 2.09106000e+05]\n",
      " [0.00000000e+00 0.00000000e+00 0.00000000e+00 ... 0.00000000e+00\n",
      "  0.00000000e+00 0.00000000e+00]]\n"
     ]
    }
   ],
   "source": [
    "print(X_test)"
   ]
  },
  {
   "cell_type": "code",
   "execution_count": 82,
   "id": "a8a1b855-43a8-4e6c-aef2-62e4e0693e06",
   "metadata": {},
   "outputs": [
    {
     "name": "stdout",
     "output_type": "stream",
     "text": [
      "[0 0 0 ... 0 0 0]\n"
     ]
    }
   ],
   "source": [
    "print(y_train)"
   ]
  },
  {
   "cell_type": "code",
   "execution_count": 83,
   "id": "32a4c162-7699-4d79-a683-2ac07907e467",
   "metadata": {},
   "outputs": [
    {
     "name": "stdout",
     "output_type": "stream",
     "text": [
      "[0 0 0 ... 0 0 0]\n"
     ]
    }
   ],
   "source": [
    "print(y_test)"
   ]
  },
  {
   "cell_type": "markdown",
   "id": "77d6209d-c9b4-4822-aea1-a1d7a564f807",
   "metadata": {},
   "source": [
    "### **5. Standardizing the input variables**"
   ]
  },
  {
   "cell_type": "code",
   "execution_count": 84,
   "id": "ab71a5e1-e2d3-4e67-8723-22d359d3349a",
   "metadata": {},
   "outputs": [],
   "source": [
    "from sklearn.preprocessing import StandardScaler\n",
    "\n",
    "std = StandardScaler()\n",
    "X_train = std.fit_transform(X_train)\n",
    "X_test = std.fit_transform(X_test)"
   ]
  },
  {
   "cell_type": "code",
   "execution_count": 85,
   "id": "e4e6bafd-06a1-47be-ab6c-71785c762511",
   "metadata": {},
   "outputs": [
    {
     "name": "stdout",
     "output_type": "stream",
     "text": [
      "[[ 1.88369838 -0.73673805 -0.08098062 ...  0.47774823  1.37630926\n",
      "   1.19982825]\n",
      " [-0.53087055 -0.73673805 -0.08098062 ... -0.18076055 -0.32335676\n",
      "  -0.33281659]\n",
      " [-0.53087055 -0.73673805 -0.08098062 ... -0.2924778  -0.32335676\n",
      "  -0.33281659]\n",
      " ...\n",
      " [-0.53087055  1.35733453 -0.08098062 ... -0.27581491 -0.22848032\n",
      "  -0.24220444]\n",
      " [-0.53087055  1.35733453 -0.08098062 ... -0.2924778  -0.24807306\n",
      "  -0.24334879]\n",
      " [-0.53087055  1.35733453 -0.08098062 ... -0.25608203 -0.32335676\n",
      "  -0.30843317]]\n"
     ]
    }
   ],
   "source": [
    "print(X_train)"
   ]
  },
  {
   "cell_type": "code",
   "execution_count": 86,
   "id": "57e9d92d-091a-4ae3-8282-2cca9f9c2f0f",
   "metadata": {},
   "outputs": [
    {
     "name": "stdout",
     "output_type": "stream",
     "text": [
      "[[ 1.88235537 -0.73572146 -0.08089668 ... -0.17243775 -0.19178085\n",
      "  -0.30182357]\n",
      " [-0.53124931 -0.73572146 -0.08089668 ... -0.28594012 -0.32519087\n",
      "  -0.33520791]\n",
      " [ 1.88235537 -0.73572146 -0.08089668 ... -0.20393496 -0.2658304\n",
      "  -0.32181091]\n",
      " ...\n",
      " [-0.53124931  1.35921005 -0.08089668 ... -0.29233405 -0.2312078\n",
      "  -0.21559925]\n",
      " [ 1.88235537 -0.73572146 -0.08089668 ...  1.89452171 -0.15277231\n",
      "  -0.27808188]\n",
      " [-0.53124931 -0.73572146 -0.08089668 ... -0.29233405 -0.32519087\n",
      "  -0.33520791]]\n"
     ]
    }
   ],
   "source": [
    "print(X_test)"
   ]
  },
  {
   "cell_type": "markdown",
   "id": "1ebe372c-cdb3-45c7-9134-e8731266cc85",
   "metadata": {},
   "source": [
    "### **6. Training Machine Learning models**"
   ]
  },
  {
   "cell_type": "markdown",
   "id": "137d5e46-5a23-4af4-b46c-c7a1d4709fbd",
   "metadata": {},
   "source": [
    "**Deciding Evaluation Metrics**"
   ]
  },
  {
   "cell_type": "markdown",
   "id": "da28d47b-7256-49bd-a84e-02fb3b8f841c",
   "metadata": {},
   "source": [
    "* Its **important to estabilish the metrics on which the model is to be tested on**, especially in this case.\n",
    "* Here the **dataset is extremely imbalanced**.\n",
    "* **Accuracy is not a good metric in this case**. You can get 98~99% accuracy just by predicting the transactions as 'not Fraudulent'.\n",
    "* **Precision and Recall** should be the good metrics to test the model. Focusing more on Precision as it will tell us how good the model is on classifying fraudulent transactions.\n",
    "* **F1-Score** should also be used as it is a combination of both Precision and Recall."
   ]
  },
  {
   "cell_type": "markdown",
   "id": "f877be36-20b7-49f5-85e2-6fbb7e13a09e",
   "metadata": {
    "tags": []
   },
   "source": [
    "#### **A. Logistic Regression**"
   ]
  },
  {
   "cell_type": "code",
   "execution_count": 41,
   "id": "3d3a34d5-145e-473c-8be0-5d9ed1d02998",
   "metadata": {},
   "outputs": [
    {
     "name": "stdout",
     "output_type": "stream",
     "text": [
      "Wall time: 3min 48s\n"
     ]
    },
    {
     "name": "stderr",
     "output_type": "stream",
     "text": [
      "C:\\Users\\aseem\\anaconda3\\envs\\exp\\lib\\site-packages\\sklearn\\linear_model\\_sag.py:328: ConvergenceWarning: The max_iter was reached which means the coef_ did not converge\n",
      "  warnings.warn(\"The max_iter was reached which means \"\n"
     ]
    },
    {
     "data": {
      "text/plain": [
       "LogisticRegression(n_jobs=-1, random_state=50, solver='saga')"
      ]
     },
     "execution_count": 41,
     "metadata": {},
     "output_type": "execute_result"
    }
   ],
   "source": [
    "%%time\n",
    "from sklearn.linear_model import LogisticRegression\n",
    "\n",
    "logistic_model = LogisticRegression(n_jobs=-1, solver='saga', random_state=50)\n",
    "logistic_model.fit(X_train, y_train)"
   ]
  },
  {
   "cell_type": "code",
   "execution_count": 42,
   "id": "915a9b85-7e06-4d7b-96bc-5d91e5445a60",
   "metadata": {},
   "outputs": [
    {
     "name": "stdout",
     "output_type": "stream",
     "text": [
      "Logistic Regression Model:\t\n",
      " \n",
      "Accuracy:\t 99.8925599831516 \n",
      "Precision:\t 98.55491329479769 \n",
      "Recall: \t 16.674816625916872 \n",
      "F1-Score: \t 28.523630280217482\n"
     ]
    },
    {
     "data": {
      "image/png": "[encoded data removed]",
      "text/plain": [
       "<Figure size 432x288 with 2 Axes>"
      ]
     },
     "metadata": {},
     "output_type": "display_data"
    }
   ],
   "source": [
    "y_pred = logistic_model.predict(X_test)\n",
    "\n",
    "sns.set_style(\"ticks\")\n",
    "cm = confusion_matrix(y_pred, y_test)\n",
    "ConfusionMatrixDisplay(cm).plot()\n",
    "\n",
    "print('Logistic Regression Model:\\t\\n',\n",
    "      '\\nAccuracy:\\t',accuracy_score(y_test, y_pred)*100,\n",
    "      '\\nPrecision:\\t',precision_score(y_test, y_pred)*100,\n",
    "      '\\nRecall: \\t',recall_score(y_test, y_pred)*100,\n",
    "      '\\nF1-Score: \\t',f1_score(y_test, y_pred)*100,)"
   ]
  },
  {
   "cell_type": "code",
   "execution_count": 43,
   "id": "3813b6ec-19ab-4be1-b9a3-09e362037890",
   "metadata": {},
   "outputs": [
    {
     "data": {
      "image/png": "[encoded data removed]",
      "text/plain": [
       "<Figure size 432x288 with 1 Axes>"
      ]
     },
     "metadata": {},
     "output_type": "display_data"
    }
   ],
   "source": [
    "sns.set_style(\"darkgrid\")\n",
    "importance_df = pd.DataFrame({'feature': ['cash_in', 'cash_out', 'debit', 'payment', 'transfer', 'amount',\n",
    "                              'oldbalanceOrg', 'newbalanceOrig', 'oldbalanceDest', 'newbalanceDest'],\n",
    "                              'importance': logistic_model.coef_[0]}).sort_values('importance', ascending=False)\n",
    "\n",
    "plt.title('Feature Importance - Logistic Regression')\n",
    "sns.barplot(data=importance_df, x='importance', y='feature');"
   ]
  },
  {
   "cell_type": "markdown",
   "id": "16888622-2434-4e07-b918-fb908435ddc2",
   "metadata": {},
   "source": [
    "* Looks like the **model is preforming quite well**.\n",
    "* It is doing a **good job of predicting fraudulent transactions** (high Precision).\n",
    "* But it has **low Recall**.\n",
    "* Lets see if this **can be imporved by using other models**."
   ]
  },
  {
   "cell_type": "markdown",
   "id": "d3b28a39-0154-44d8-ab14-250674bfc7ac",
   "metadata": {},
   "source": [
    "#### **B. Decision Trees**"
   ]
  },
  {
   "cell_type": "code",
   "execution_count": 44,
   "id": "2b3fa9da-9fc9-4451-9c2e-1a3455fe3008",
   "metadata": {},
   "outputs": [
    {
     "name": "stdout",
     "output_type": "stream",
     "text": [
      "Wall time: 30.5 s\n"
     ]
    },
    {
     "data": {
      "text/plain": [
       "DecisionTreeClassifier(random_state=50)"
      ]
     },
     "execution_count": 44,
     "metadata": {},
     "output_type": "execute_result"
    }
   ],
   "source": [
    "%%time\n",
    "from sklearn.tree import DecisionTreeClassifier\n",
    "\n",
    "dt_model = DecisionTreeClassifier(random_state=50)\n",
    "dt_model.fit(X_train, y_train)"
   ]
  },
  {
   "cell_type": "code",
   "execution_count": 45,
   "id": "6df89a66-a31d-4811-a26f-81573668c3f6",
   "metadata": {},
   "outputs": [
    {
     "name": "stdout",
     "output_type": "stream",
     "text": [
      "Decision Tree Model:\t\n",
      " \n",
      "Accuracy:\t 99.9317262385621 \n",
      "Precision:\t 92.62222222222222 \n",
      "Recall: \t 50.95354523227383 \n",
      "F1-Score: \t 65.74132492113564\n"
     ]
    },
    {
     "data": {
      "image/png": "[encoded data removed]",
      "text/plain": [
       "<Figure size 432x288 with 2 Axes>"
      ]
     },
     "metadata": {},
     "output_type": "display_data"
    }
   ],
   "source": [
    "y_pred = dt_model.predict(X_test)\n",
    "\n",
    "sns.set_style(\"ticks\")\n",
    "cm = confusion_matrix(y_pred, y_test)\n",
    "ConfusionMatrixDisplay(cm).plot()\n",
    "\n",
    "print('Decision Tree Model:\\t\\n',\n",
    "      '\\nAccuracy:\\t',accuracy_score(y_test, y_pred)*100,\n",
    "      '\\nPrecision:\\t',precision_score(y_test, y_pred)*100,\n",
    "      '\\nRecall: \\t',recall_score(y_test, y_pred)*100,\n",
    "      '\\nF1-Score: \\t',f1_score(y_test, y_pred)*100,)"
   ]
  },
  {
   "cell_type": "code",
   "execution_count": 46,
   "id": "49b7ce15-30ec-4a16-be26-7674b9c824fb",
   "metadata": {},
   "outputs": [
    {
     "data": {
      "image/png": "[encoded data removed]",
      "text/plain": [
       "<Figure size 432x288 with 1 Axes>"
      ]
     },
     "metadata": {},
     "output_type": "display_data"
    }
   ],
   "source": [
    "sns.set_style(\"darkgrid\")\n",
    "importance_df = pd.DataFrame({'feature': ['cash_in', 'cash_out', 'debit', 'payment', 'transfer', 'amount',\n",
    "                              'oldbalanceOrg', 'newbalanceOrig', 'oldbalanceDest', 'newbalanceDest'],\n",
    "                              'importance': dt_model.feature_importances_}).sort_values('importance', ascending=False)\n",
    "\n",
    "plt.title('Feature Importance - Logistic Regression')\n",
    "sns.barplot(data=importance_df, x='importance', y='feature');"
   ]
  },
  {
   "cell_type": "markdown",
   "id": "170f02be-228a-4ca6-9515-07b2a31390b1",
   "metadata": {},
   "source": [
    "#### **C. Random Forests**"
   ]
  },
  {
   "cell_type": "code",
   "execution_count": 47,
   "id": "0afee1c9-8ee2-45a1-95ab-c26364930ae8",
   "metadata": {},
   "outputs": [
    {
     "name": "stdout",
     "output_type": "stream",
     "text": [
      "Wall time: 2min 39s\n"
     ]
    },
    {
     "data": {
      "text/plain": [
       "RandomForestClassifier(n_jobs=-1, random_state=50)"
      ]
     },
     "execution_count": 47,
     "metadata": {},
     "output_type": "execute_result"
    }
   ],
   "source": [
    "%%time\n",
    "from sklearn.ensemble import RandomForestClassifier\n",
    "\n",
    "rf_model = RandomForestClassifier(n_jobs=-1, random_state=50)\n",
    "rf_model.fit(X_train, y_train)"
   ]
  },
  {
   "cell_type": "code",
   "execution_count": 48,
   "id": "cf9d9b01-5758-466d-b916-5e0550bc9a07",
   "metadata": {},
   "outputs": [
    {
     "name": "stdout",
     "output_type": "stream",
     "text": [
      "Random Forest Model:\t\n",
      " \n",
      "Accuracy:\t 99.94964338590077 \n",
      "Precision:\t 97.26443768996961 \n",
      "Recall: \t 62.59168704156479 \n",
      "F1-Score: \t 76.16780720023803\n"
     ]
    },
    {
     "data": {
      "image/png": "[encoded data removed]",
      "text/plain": [
       "<Figure size 432x288 with 2 Axes>"
      ]
     },
     "metadata": {},
     "output_type": "display_data"
    }
   ],
   "source": [
    "y_pred = rf_model.predict(X_test)\n",
    "\n",
    "sns.set_style(\"ticks\")\n",
    "cm = confusion_matrix(y_pred, y_test)\n",
    "ConfusionMatrixDisplay(cm).plot()\n",
    "\n",
    "print('Random Forest Model:\\t\\n',\n",
    "      '\\nAccuracy:\\t',accuracy_score(y_test, y_pred)*100,\n",
    "      '\\nPrecision:\\t',precision_score(y_test, y_pred)*100,\n",
    "      '\\nRecall: \\t',recall_score(y_test, y_pred)*100,\n",
    "      '\\nF1-Score: \\t',f1_score(y_test, y_pred)*100,)"
   ]
  },
  {
   "cell_type": "code",
   "execution_count": 49,
   "id": "50d0719f-fdcf-4f99-a1d1-6f4607a61bef",
   "metadata": {},
   "outputs": [
    {
     "data": {
      "image/png": "[encoded data removed]",
      "text/plain": [
       "<Figure size 432x288 with 1 Axes>"
      ]
     },
     "metadata": {},
     "output_type": "display_data"
    }
   ],
   "source": [
    "sns.set_style(\"darkgrid\")\n",
    "importance_df = pd.DataFrame({'feature': ['cash_in', 'cash_out', 'debit', 'payment', 'transfer', 'amount',\n",
    "                              'oldbalanceOrg', 'newbalanceOrig', 'oldbalanceDest', 'newbalanceDest'],\n",
    "                              'importance': rf_model.feature_importances_}).sort_values('importance', ascending=False)\n",
    "\n",
    "plt.title('Feature Importance - Logistic Regression')\n",
    "sns.barplot(data=importance_df, x='importance', y='feature');"
   ]
  },
  {
   "cell_type": "markdown",
   "id": "d2dc2ab5-3e82-48e2-9bac-47b796934514",
   "metadata": {},
   "source": [
    "#### **D. XG Boost**"
   ]
  },
  {
   "cell_type": "code",
   "execution_count": 50,
   "id": "718ade6e-103f-4430-af0d-46e3df2164f5",
   "metadata": {},
   "outputs": [
    {
     "name": "stdout",
     "output_type": "stream",
     "text": [
      "Wall time: 14.5 s\n"
     ]
    },
    {
     "data": {
      "text/plain": [
       "XGBClassifier(base_score=None, booster=None, callbacks=None,\n",
       "              colsample_bylevel=None, colsample_bynode=None,\n",
       "              colsample_bytree=None, early_stopping_rounds=None,\n",
       "              enable_categorical=False, eval_metric=None, feature_types=None,\n",
       "              gamma=None, gpu_id=None, grow_policy=None, importance_type=None,\n",
       "              interaction_constraints=None, learning_rate=None, max_bin=None,\n",
       "              max_cat_threshold=None, max_cat_to_onehot=None,\n",
       "              max_delta_step=None, max_depth=3, max_leaves=None,\n",
       "              min_child_weight=None, missing=nan, monotone_constraints=None,\n",
       "              n_estimators=24, n_jobs=-1, num_parallel_tree=None,\n",
       "              predictor=None, random_state=50, ...)"
      ]
     },
     "execution_count": 50,
     "metadata": {},
     "output_type": "execute_result"
    }
   ],
   "source": [
    "%%time\n",
    "from xgboost import XGBClassifier\n",
    "\n",
    "xgb_model = XGBClassifier(n_jobs=-1, n_estimators=24, max_depth=3, random_state=50)\n",
    "xgb_model.fit(X_train, y_train)"
   ]
  },
  {
   "cell_type": "code",
   "execution_count": 51,
   "id": "16a5028c-f850-467c-8b90-1f13ab53863a",
   "metadata": {},
   "outputs": [
    {
     "name": "stdout",
     "output_type": "stream",
     "text": [
      "XG Boost Model:\t\n",
      " \n",
      "Accuracy:\t 99.88124389009559 \n",
      "Precision:\t 68.6602870813397 \n",
      "Recall: \t 14.034229828850856 \n",
      "F1-Score: \t 23.304912708079577\n"
     ]
    },
    {
     "data": {
      "image/png": "[encoded data removed]",
      "text/plain": [
       "<Figure size 432x288 with 2 Axes>"
      ]
     },
     "metadata": {},
     "output_type": "display_data"
    }
   ],
   "source": [
    "y_pred = xgb_model.predict(X_test)\n",
    "\n",
    "sns.set_style(\"ticks\")\n",
    "cm = confusion_matrix(y_pred, y_test)\n",
    "ConfusionMatrixDisplay(cm).plot()\n",
    "\n",
    "print('XG Boost Model:\\t\\n',\n",
    "      '\\nAccuracy:\\t',accuracy_score(y_test, y_pred)*100,\n",
    "      '\\nPrecision:\\t',precision_score(y_test, y_pred)*100,\n",
    "      '\\nRecall: \\t',recall_score(y_test, y_pred)*100,\n",
    "      '\\nF1-Score: \\t',f1_score(y_test, y_pred)*100,)"
   ]
  },
  {
   "cell_type": "code",
   "execution_count": 52,
   "id": "73a0ece4-f0de-43be-9b64-ae7834c90b8f",
   "metadata": {},
   "outputs": [
    {
     "data": {
      "image/png": "[encoded data removed]",
      "text/plain": [
       "<Figure size 432x288 with 1 Axes>"
      ]
     },
     "metadata": {},
     "output_type": "display_data"
    }
   ],
   "source": [
    "sns.set_style(\"darkgrid\")\n",
    "importance_df = pd.DataFrame({'feature': ['cash_in', 'cash_out', 'debit', 'payment', 'transfer', 'amount',\n",
    "                              'oldbalanceOrg', 'newbalanceOrig', 'oldbalanceDest', 'newbalanceDest'],\n",
    "                              'importance': xgb_model.feature_importances_}).sort_values('importance', ascending=False)\n",
    "\n",
    "plt.title('Feature Importance - XG Boost')\n",
    "sns.barplot(data=importance_df, x='importance', y='feature');"
   ]
  },
  {
   "cell_type": "markdown",
   "id": "6c01c64a-660e-4988-8885-bb7cef905acc",
   "metadata": {},
   "source": [
    "#### **E. Support Vector Machine**"
   ]
  },
  {
   "cell_type": "code",
   "execution_count": 35,
   "id": "109ca8cf-0b37-4eb6-be6c-637565a10501",
   "metadata": {},
   "outputs": [
    {
     "name": "stdout",
     "output_type": "stream",
     "text": [
      "Wall time: 1h 52min 52s\n"
     ]
    },
    {
     "data": {
      "text/plain": [
       "SVC(C=1)"
      ]
     },
     "execution_count": 35,
     "metadata": {},
     "output_type": "execute_result"
    }
   ],
   "source": [
    "%%time\n",
    "from sklearn.svm import SVC\n",
    "\n",
    "model = SVC(C=1)\n",
    "model.fit(X_train, y_train)"
   ]
  },
  {
   "cell_type": "code",
   "execution_count": 36,
   "id": "070ff862-1540-4ef6-b76e-8c4a3b4a5ed7",
   "metadata": {},
   "outputs": [],
   "source": [
    "y_pred = model.predict(X_test)"
   ]
  },
  {
   "cell_type": "code",
   "execution_count": 43,
   "id": "d4130ed7-7e5c-465d-891b-71145839f461",
   "metadata": {},
   "outputs": [
    {
     "name": "stdout",
     "output_type": "stream",
     "text": [
      "Accuracy:\t 99.92826854346166 \n",
      "Precision:\t 99.34497816593887 \n",
      "Recall: \t 44.49877750611247 \n",
      "F1-Score: \t 61.46572104018912\n"
     ]
    }
   ],
   "source": [
    "print( \n",
    "    'Accuracy:\\t',accuracy_score(y_test, y_pred)*100,\n",
    "    '\\nPrecision:\\t',precision_score(y_test, y_pred)*100,\n",
    "    '\\nRecall: \\t',recall_score(y_test, y_pred)*100,\n",
    "    '\\nF1-Score: \\t',f1_score(y_test, y_pred)*100,)"
   ]
  },
  {
   "cell_type": "markdown",
   "id": "09ff3c41-a632-4fc8-9fec-0528a9a82d6d",
   "metadata": {},
   "source": [
    "### **7. Results, Insights and Answering Questions**"
   ]
  },
  {
   "cell_type": "markdown",
   "id": "9825afee-5b1b-49bb-a883-48aff538ffc0",
   "metadata": {},
   "source": [
    "* It looks like the **Random Forest Model performed the best** with a F-1 Score of 76.16\n",
    "* Unfortunately, I did not get enough time to apply hyperparameter tuning, but that would be done using GridSearchCV to find the best ones for each model.\n"
   ]
  },
  {
   "cell_type": "markdown",
   "id": "41fbeace-305d-4cec-8c7a-11413312377f",
   "metadata": {},
   "source": [
    "* As for the most important features, they are the **balance of the sender before the transaction** (oldbalanceOrg), the **balance of the receiver after the transaction** (newbalanceDest), and the **amount** of the transaction.\n",
    "* This **does make some sense** as all of these are vital components of any transaction.\n",
    "* **Further analysis** on these features would probably **reveal more information** on why the models give the most importance to them.\n",
    "* Some other features like the type of transactions ('debit', 'transfer', 'cash_out' etc) do have some importance, but not as expected."
   ]
  },
  {
   "cell_type": "markdown",
   "id": "7daa7354-a8f5-4280-9ab5-a16f4cf761e5",
   "metadata": {},
   "source": [
    "**What kind of prevention should be adopted while company update its infrastructure?**\n",
    "* Each transaction should probably be **accompanied with a very efficient rule-based safety-net to prematurely determine fraudulent transactions**.\n",
    "* These possible **fraudulent transactions can then be passed to our model**, as it is quite accurate to classify frauds.\n",
    "* **Though modern ML models are quite efficient** in their inference times and predicting outcomes, **passing every transaction through the model might lead to slow down the rate of transactions**, thus the preliminary rule-based approach."
   ]
  },
  {
   "cell_type": "markdown",
   "id": "72f10b0a-c024-49f6-b58b-d37a66b60e46",
   "metadata": {},
   "source": [
    "**Assuming these actions have been implemented, how would you determine if they work?**\n",
    "* Some sort of rigorous testing would have to be done, maybe in a simulation.\n",
    "* Also the **models will have have to be thoroughly tested on never before seen data** before it can be trusted and put into production."
   ]
  },
  {
   "cell_type": "code",
   "execution_count": null,
   "id": "9cb1fdc8-dc39-406a-8e83-dcf260a4c5fa",
   "metadata": {},
   "outputs": [],
   "source": []
  }
 ],
 "metadata": {
  "kernelspec": {
   "display_name": "Python 3 (ipykernel)",
   "language": "python",
   "name": "python3"
  },
  "language_info": {
   "codemirror_mode": {
    "name": "ipython",
    "version": 3
   },
   "file_extension": ".py",
   "mimetype": "text/x-python",
   "name": "python",
   "nbconvert_exporter": "python",
   "pygments_lexer": "ipython3",
   "version": "3.10.0"
  }
 },
 "nbformat": 4,
 "nbformat_minor": 5
}
